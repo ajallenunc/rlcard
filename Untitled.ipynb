{
 "cells": [
  {
   "cell_type": "code",
   "execution_count": 2,
   "id": "a99cca2f-49c0-47ab-adc2-e7ff968d10f0",
   "metadata": {},
   "outputs": [
    {
     "name": "stdout",
     "output_type": "stream",
     "text": [
      "2\n",
      "1\n",
      "[[2]]\n",
      "[None]\n"
     ]
    }
   ],
   "source": [
    "import rlcard\n",
    "from rlcard.agents import RandomAgent\n",
    "\n",
    "env = rlcard.make('blackjack')\n",
    "env.set_agents([RandomAgent(num_actions=env.num_actions)])\n",
    "\n",
    "print(env.num_actions) # 2\n",
    "print(env.num_players) # 1\n",
    "print(env.state_shape) # [[2]]\n",
    "print(env.action_shape) # [None]\n",
    "\n",
    "trajectories, payoffs = env.run()"
   ]
  },
  {
   "cell_type": "code",
   "execution_count": null,
   "id": "cf68f88c-6e72-41db-b5cc-d7fb066e5caa",
   "metadata": {},
   "outputs": [],
   "source": []
  }
 ],
 "metadata": {
  "kernelspec": {
   "display_name": "rlcardenv",
   "language": "python",
   "name": "rlcardenv"
  },
  "language_info": {
   "codemirror_mode": {
    "name": "ipython",
    "version": 3
   },
   "file_extension": ".py",
   "mimetype": "text/x-python",
   "name": "python",
   "nbconvert_exporter": "python",
   "pygments_lexer": "ipython3",
   "version": "3.7.16"
  }
 },
 "nbformat": 4,
 "nbformat_minor": 5
}
